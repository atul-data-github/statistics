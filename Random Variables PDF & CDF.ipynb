{
 "cells": [
  {
   "cell_type": "markdown",
   "metadata": {},
   "source": [
    "https://web.stanford.edu/class/archive/cs/cs109/cs109.1192/handouts/pythonForProbability.html"
   ]
  },
  {
   "cell_type": "code",
   "execution_count": 2,
   "metadata": {},
   "outputs": [
    {
     "name": "stdout",
     "output_type": "stream",
     "text": [
      "2432902008176640000\n"
     ]
    }
   ],
   "source": [
    "import math\n",
    "print(math.factorial(20))"
   ]
  },
  {
   "cell_type": "code",
   "execution_count": 4,
   "metadata": {},
   "outputs": [
    {
     "name": "stdout",
     "output_type": "stream",
     "text": [
      "252.0\n"
     ]
    }
   ],
   "source": [
    "from scipy import special\n",
    "print (special.binom(10, 5))"
   ]
  },
  {
   "cell_type": "code",
   "execution_count": 5,
   "metadata": {},
   "outputs": [
    {
     "name": "stdout",
     "output_type": "stream",
     "text": [
      "0.20132659200000022\n",
      "0.9672065024000001\n",
      "2.0\n",
      "1.6\n",
      "1.2649110640673518\n",
      "3\n",
      "[4 3 2 1 1 2 2 1 1 1]\n"
     ]
    }
   ],
   "source": [
    "from scipy import stats\n",
    "X = stats.binom(10, 0.2) # Declare X to be a binomial random variable\n",
    "print( X.pmf(3))           # P(X = 3)\n",
    "print( X.cdf(4))           # P(X <= 4)\n",
    "print( X.mean())          # E[X]\n",
    "print( X.var())            # Var(X)\n",
    "print( X.std())            # Std(X)\n",
    "print( X.rvs())            # Get a random sample from X\n",
    "print( X.rvs(10))          # Get 10 random samples form X"
   ]
  },
  {
   "cell_type": "code",
   "execution_count": 10,
   "metadata": {},
   "outputs": [],
   "source": [
    "from scipy import stats\n",
    "X = stats.binom(10, 0.2) # Declare X to be a binomial random variable\n",
    "#help(X)                  # List all methods defined for X"
   ]
  },
  {
   "cell_type": "code",
   "execution_count": 7,
   "metadata": {},
   "outputs": [
    {
     "name": "stdout",
     "output_type": "stream",
     "text": [
      "0.18044704431548356\n",
      "2\n"
     ]
    }
   ],
   "source": [
    "from scipy import stats\n",
    "Y = stats.poisson(2) # Declare Y to be a poisson random variable\n",
    "print( Y.pmf(3))       # P(Y = 3)\n",
    "print( Y.rvs())        # Get a random sample from Y"
   ]
  },
  {
   "cell_type": "code",
   "execution_count": 9,
   "metadata": {},
   "outputs": [
    {
     "name": "stdout",
     "output_type": "stream",
     "text": [
      "0.046875\n",
      "1\n"
     ]
    }
   ],
   "source": [
    "from scipy import stats\n",
    "X = stats.geom(0.75) # Declare X to be a geometric random variable\n",
    "print(X.pmf(3))       # P(X = 3)\n",
    "print(X.rvs())        # Get a random sample from Y"
   ]
  },
  {
   "cell_type": "code",
   "execution_count": null,
   "metadata": {},
   "outputs": [],
   "source": [
    "import math\n",
    "from scipy import stats\n",
    "A = stats.norm(3, math.sqrt(16)) # Declare A to be a normal random variable\n",
    "print A.pdf(4)       # f(3), the probability density at 3\n",
    "print A.cdf(2)       # F(2), which is also P(Y < 2)\n",
    "print A.rvs()        # Get a random sample from A"
   ]
  },
  {
   "cell_type": "code",
   "execution_count": null,
   "metadata": {},
   "outputs": [],
   "source": [
    "from scipy import stats\n",
    "B = stats.expon(4)   # Declare B to be a normal random variable\n",
    "print B.pdf(1)       # f(1), the probability density at 1\n",
    "print B.cdf(2)       # F(2) which is also P(B < 2)\n",
    "print B.rvs()        # Get a random sample from B"
   ]
  },
  {
   "cell_type": "code",
   "execution_count": null,
   "metadata": {},
   "outputs": [],
   "source": [
    "from scipy import stats\n",
    "X = stats.beta(1, 3) # Declare X to be a beta random variable\n",
    "print X.pdf(0.5)     # f(0.5), the probability density at 1\n",
    "print X.cdf(0.7)     # F(0.7) which is also P(X < 0.7)\n",
    "print X.rvs()        # Get a random sample from X"
   ]
  }
 ],
 "metadata": {
  "kernelspec": {
   "display_name": "Python 3",
   "language": "python",
   "name": "python3"
  },
  "language_info": {
   "codemirror_mode": {
    "name": "ipython",
    "version": 3
   },
   "file_extension": ".py",
   "mimetype": "text/x-python",
   "name": "python",
   "nbconvert_exporter": "python",
   "pygments_lexer": "ipython3",
   "version": "3.7.3"
  }
 },
 "nbformat": 4,
 "nbformat_minor": 2
}
